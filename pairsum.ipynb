{
  "nbformat": 4,
  "nbformat_minor": 0,
  "metadata": {
    "colab": {
      "name": "pairsum.ipynb",
      "provenance": [],
      "authorship_tag": "ABX9TyOKcGY73s8jsaLGads61sxn",
      "include_colab_link": true
    },
    "kernelspec": {
      "name": "python3",
      "display_name": "Python 3"
    },
    "language_info": {
      "name": "python"
    }
  },
  "cells": [
    {
      "cell_type": "markdown",
      "metadata": {
        "id": "view-in-github",
        "colab_type": "text"
      },
      "source": [
        "<a href=\"https://colab.research.google.com/github/Hitesh12358/ARIMA_Model/blob/main/pairsum.ipynb\" target=\"_parent\"><img src=\"https://colab.research.google.com/assets/colab-badge.svg\" alt=\"Open In Colab\"/></a>"
      ]
    },
    {
      "cell_type": "markdown",
      "source": [
        "Problem of pairsum\n"
      ],
      "metadata": {
        "id": "ndlorKI6Anrt"
      }
    },
    {
      "cell_type": "code",
      "source": [
        "#From Given Array find the number of pair which sums up a specified value. \n"
      ],
      "metadata": {
        "id": "1RpjFzBgD09D"
      },
      "execution_count": null,
      "outputs": []
    },
    {
      "cell_type": "code",
      "source": [
        "## Time and Space Complexity: O(n) , O(n)\n",
        "def countpairsum_1(arrays , value):\n",
        "  set_numbers = set()\n",
        "  n = len(arrays)\n",
        "  count_pairs = 0\n",
        "  for i in range(n):\n",
        "    required_value = value - arrays[i]\n",
        "    if required_value in set_numbers:\n",
        "      count_pairs += 1\n",
        "    set_numbers.add(arrays[i])\n",
        "\n",
        "  return count_pairs\n"
      ],
      "metadata": {
        "id": "_np60XfcD1Gl"
      },
      "execution_count": null,
      "outputs": []
    },
    {
      "cell_type": "code",
      "source": [
        "from time import process_time\n",
        "\n",
        "# Start the stopwatch / counter \n",
        " \n",
        "\n",
        "t1_start = process_time() \n",
        "countpairsum_1([1,3,-1,5,6,7,0,6,4], 4)\n",
        "\n",
        "# Stop the stopwatch / counter\n",
        "t1_stop = process_time()\n",
        "\n",
        "print(\"Elapsed time during the whole program in seconds:\",\n",
        "                                         t1_stop-t1_start) "
      ],
      "metadata": {
        "colab": {
          "base_uri": "https://localhost:8080/"
        },
        "id": "pjUI7H7IFLfT",
        "outputId": "88a260ad-e892-4d56-ffd0-2bfa87136866"
      },
      "execution_count": null,
      "outputs": [
        {
          "output_type": "stream",
          "name": "stdout",
          "text": [
            "Elapsed time during the whole program in seconds: 9.271999999960201e-05\n"
          ]
        }
      ]
    },
    {
      "cell_type": "code",
      "source": [
        ""
      ],
      "metadata": {
        "id": "J4epgyhsFxse"
      },
      "execution_count": null,
      "outputs": []
    },
    {
      "cell_type": "code",
      "source": [
        "# Time and Space: O(nlogn), O(1)\n",
        "def countpairsum(arrays, value):\n",
        "  arrays.sort()\n",
        "  n = len(arrays)\n",
        "  left = 0\n",
        "  right = n - 1\n",
        "  count_pairs = 0\n",
        "  while (left < right):\n",
        "    sum = arrays[left] + arrays[right]\n",
        "    if sum == value:\n",
        "      count_pairs += 1\n",
        "      left += 1\n",
        "      right -=1 \n",
        "    elif sum > value:\n",
        "      right -= 1\n",
        "    else:\n",
        "      left += 1\n",
        "\n",
        "  return count_pairs\n",
        "  "
      ],
      "metadata": {
        "id": "5c_pLH8hFyGr"
      },
      "execution_count": null,
      "outputs": []
    },
    {
      "cell_type": "code",
      "source": [
        "# Start the stopwatch / counter \n",
        " \n",
        "\n",
        "t1_start = process_time() \n",
        "countpairsum([1,3,-1,5,6,7,0,6,4], 4)\n",
        "\n",
        "# Stop the stopwatch / counter\n",
        "t1_stop = process_time()\n",
        "\n",
        "print(\"Elapsed time during the whole program in seconds:\",\n",
        "                                         t1_stop-t1_start) \n",
        "\n"
      ],
      "metadata": {
        "colab": {
          "base_uri": "https://localhost:8080/"
        },
        "id": "FuS711H2G3Cd",
        "outputId": "b5a29d0e-a547-4e33-ea3b-5fdacfc1047f"
      },
      "execution_count": null,
      "outputs": [
        {
          "output_type": "stream",
          "name": "stdout",
          "text": [
            "Elapsed time during the whole program in seconds: 8.933300000002475e-05\n"
          ]
        }
      ]
    }
  ]
}